{
 "cells": [
  {
   "cell_type": "code",
   "execution_count": null,
   "metadata": {},
   "outputs": [],
   "source": [
    "!pip install pyTelegramBotAPI"
   ]
  },
  {
   "cell_type": "code",
   "execution_count": null,
   "metadata": {
    "scrolled": true
   },
   "outputs": [],
   "source": [
    "import telebot\n",
    "import requests\n",
    "import matplotlib.pyplot as plt\n",
    "from PIL import Image\n",
    "\n",
    "bot = telebot.TeleBot(\"1799078640:AAFsJy-RhRDhZHNnXJiAObBqYIEj3xNnTr0\")\n",
    "\n",
    "\n",
    "@bot.message_handler(commands=['start'])\n",
    "def send_welcome(message):\n",
    "    bot.reply_to(message, \"Привет! Введи тикер акции, по которой хочешь узнать информацию! (пример: AAPL)\")\n",
    "\n",
    "\n",
    "@bot.message_handler(content_types = ['text'])\n",
    "def get_info_3(message):\n",
    "    #bot.send_message(message.chat.id, \"Нативная интеграция. 🙃 \\n\\nРазвиваешь свой проект и не знаешь где купить отличный лого? Заходи на сайт http://nikitindesigner.tilda.ws/contacts!\\n\\nСкидка 15% по промокоду BIGKROLIK🤩\")\n",
    "    if len(message.text) <= 4 and len(message.text) >= 0: \n",
    "        try:\n",
    "            stock_ticker = message.text\n",
    "            bot.reply_to(message, f\"Тикер: {stock_ticker}. Нейросеть обрабатывает информацию...\")\n",
    "\n",
    "            url = f'https://financialmodelingprep.com/api/v3/profile/{stock_ticker}?apikey=b59a97db01de231d304f7c4c20a0670d'\n",
    "            result = requests.get(url)\n",
    "            result_json = result.json()[0]\n",
    "            cur = str(result_json[\"currency\"])\n",
    "            response = str(result_json[\"symbol\"]) + '. Цена сейчас: ' + str(result_json[\"price\"]) + ' ' + cur\n",
    "            bot.send_message(message.chat.id, response)\n",
    "\n",
    "            url = f'https://www.alphavantage.co/query?function=TIME_SERIES_DAILY&symbol={stock_ticker}&apikey=YD82B9BBTLJU86CO'\n",
    "            result = requests.get(url)\n",
    "            x = result.json()['Time Series (Daily)']\n",
    "            c = []\n",
    "            t = []\n",
    "            for key in x.keys():\n",
    "                t.append(key)\n",
    "                c.append(float(x[key]['4. close']))\n",
    "            c.reverse()\n",
    "            t.reverse()\n",
    "            plt.clf()\n",
    "            plt.figure(figsize=(15, 6))\n",
    "            plt.plot(t, c, label=\"Close Price - Day\", color = 'blue');\n",
    "            plt.xticks(size=7, rotation=90)\n",
    "            plt.xlabel('Дата')\n",
    "            plt.ylabel(f'{cur}')\n",
    "            plt.title(f'Дневной график с начала 2021 года - {stock_ticker}', fontsize = 16, fontfamily = 'montserrat', fontweight = 'bold', alpha = 0.7, color = 'black')\n",
    "            plt.grid(True);\n",
    "            plt.savefig('saved_figure.png', dpi = 200)\n",
    "\n",
    "            img = Image.open(r'saved_figure.png')\n",
    "            bot.send_photo(message.chat.id, img)\n",
    "\n",
    "            bot.send_message(message.chat.id, 'Ещё по тикеру?)')\n",
    "        except:\n",
    "            bot.send_message(message.chat.id, 'Онли американские акции)')\n",
    "    else: \n",
    "        bot.send_message(message.chat.id, 'error, введи по-человечески')\n",
    "\n",
    "bot.polling(none_stop = True)"
   ]
  },
  {
   "cell_type": "code",
   "execution_count": 5,
   "metadata": {
    "collapsed": true
   },
   "outputs": [
    {
     "ename": "NameError",
     "evalue": "name 'YD82B9BBTLJU86CO' is not defined",
     "output_type": "error",
     "traceback": [
      "\u001b[1;31m---------------------------------------------------------------------------\u001b[0m",
      "\u001b[1;31mNameError\u001b[0m                                 Traceback (most recent call last)",
      "\u001b[1;32m<ipython-input-5-3bca0b84119d>\u001b[0m in \u001b[0;36m<module>\u001b[1;34m\u001b[0m\n\u001b[1;32m----> 1\u001b[1;33m \u001b[0mYD82B9BBTLJU86CO\u001b[0m\u001b[1;33m\u001b[0m\u001b[1;33m\u001b[0m\u001b[0m\n\u001b[0m",
      "\u001b[1;31mNameError\u001b[0m: name 'YD82B9BBTLJU86CO' is not defined"
     ]
    }
   ],
   "source": [
    "YD82B9BBTLJU86CO"
   ]
  },
  {
   "cell_type": "code",
   "execution_count": null,
   "metadata": {},
   "outputs": [],
   "source": [
    "@bot.message_handler(commands=['about'])\n",
    "def get_info_1(message):\n",
    "    bot.send_message(message.chat.id, 'По какой акции интересует информация? (пример: AAPL)')\n",
    "    \n",
    "        \n",
    "@bot.message_handler(commands=['recommendation'])\n",
    "def get_info_2(message):\n",
    "    bot.send_message(message.chat.id, 'По какой акции интересует информация? (пример: AAPL)')\n",
    "    stock_ticker = message.text\n",
    "    if len(message.text) <= 4 and len(message.text) >= 0: \n",
    "        url = f'https://financialmodelingprep.com/api/v3/rating/{stock_ticker}?apikey=b59a97db01de231d304f7c4c20a0670d'\n",
    "        result = requests.get(url)\n",
    "        result_json = result.json()[0]\n",
    "        response = str(result_json[\"ratingScore\"])+ ' out of 5.' + ' ' + str(result_json[\"ratingRecommendation\"]) + '!'\n",
    "        bot.send_message(message.chat.id, response)\n",
    "    else:\n",
    "        bot.send_message(message.chat.id, 'error')"
   ]
  },
  {
   "cell_type": "code",
   "execution_count": null,
   "metadata": {},
   "outputs": [],
   "source": []
  },
  {
   "cell_type": "code",
   "execution_count": null,
   "metadata": {},
   "outputs": [],
   "source": []
  },
  {
   "cell_type": "code",
   "execution_count": null,
   "metadata": {},
   "outputs": [],
   "source": []
  },
  {
   "cell_type": "code",
   "execution_count": null,
   "metadata": {},
   "outputs": [],
   "source": []
  },
  {
   "cell_type": "code",
   "execution_count": null,
   "metadata": {},
   "outputs": [],
   "source": []
  },
  {
   "cell_type": "code",
   "execution_count": null,
   "metadata": {},
   "outputs": [],
   "source": []
  },
  {
   "cell_type": "code",
   "execution_count": null,
   "metadata": {},
   "outputs": [],
   "source": []
  }
 ],
 "metadata": {
  "kernelspec": {
   "display_name": "Python 3",
   "language": "python",
   "name": "python3"
  },
  "language_info": {
   "codemirror_mode": {
    "name": "ipython",
    "version": 3
   },
   "file_extension": ".py",
   "mimetype": "text/x-python",
   "name": "python",
   "nbconvert_exporter": "python",
   "pygments_lexer": "ipython3",
   "version": "3.8.5"
  }
 },
 "nbformat": 4,
 "nbformat_minor": 4
}
